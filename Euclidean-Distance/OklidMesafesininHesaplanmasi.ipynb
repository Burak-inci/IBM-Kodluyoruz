{
 "cells": [
  {
   "cell_type": "code",
   "execution_count": 1,
   "id": "fce249ad-46c4-49fa-929f-2ab5bf7af2ee",
   "metadata": {},
   "outputs": [],
   "source": [
    "import math"
   ]
  },
  {
   "cell_type": "code",
   "execution_count": 13,
   "id": "a6990610-23db-48e6-8e6b-acd8e2f99228",
   "metadata": {},
   "outputs": [],
   "source": [
    "points = [ (5,2),(-1,3),(3,10),(4,-7),(2,19),(13,6) ]"
   ]
  },
  {
   "cell_type": "code",
   "execution_count": 14,
   "id": "092b0f98-90ae-4fea-858a-2eafb3bd5047",
   "metadata": {},
   "outputs": [],
   "source": [
    "def euclideanDistance(x1,y1,x2,y2):\n",
    "    return math.sqrt( (x2-x1)**2 + (y2-y1)**2 )"
   ]
  },
  {
   "cell_type": "code",
   "execution_count": 15,
   "id": "0addab60-b781-444d-a5cc-4a16df3b76d4",
   "metadata": {},
   "outputs": [],
   "source": [
    "distances = []\n",
    "for i in range(len(points)):\n",
    "    for j in range(len(points)):\n",
    "        if i != j:\n",
    "            mesafe = euclideanDistance(points[i][0],points[i][1],points[j][0],points[j][1])\n",
    "            distances.append(mesafe)"
   ]
  },
  {
   "cell_type": "code",
   "execution_count": 16,
   "id": "5fb92f7a-bc73-4aa4-88a3-7bd8d5e39208",
   "metadata": {},
   "outputs": [
    {
     "name": "stdout",
     "output_type": "stream",
     "text": [
      "[6.082762530298219, 8.246211251235321, 9.055385138137417, 17.26267650163207, 8.94427190999916, 6.082762530298219, 8.06225774829855, 11.180339887498949, 16.278820596099706, 14.317821063276353, 8.246211251235321, 8.06225774829855, 17.029386365926403, 9.055385138137417, 10.770329614269007, 9.055385138137417, 11.180339887498949, 17.029386365926403, 26.076809620810597, 15.811388300841896, 17.26267650163207, 16.278820596099706, 9.055385138137417, 26.076809620810597, 17.029386365926403, 8.94427190999916, 14.317821063276353, 10.770329614269007, 15.811388300841896, 17.029386365926403]\n"
     ]
    }
   ],
   "source": [
    "print(distances)"
   ]
  },
  {
   "cell_type": "code",
   "execution_count": 17,
   "id": "76d8222a-7146-430f-b6bf-25d091564ba6",
   "metadata": {},
   "outputs": [
    {
     "name": "stdout",
     "output_type": "stream",
     "text": [
      "Minimum mesafe:  6.082762530298219\n"
     ]
    }
   ],
   "source": [
    "min_distance = min(distances)\n",
    "print(\"Minimum mesafe: \", min_distance)"
   ]
  },
  {
   "cell_type": "code",
   "execution_count": null,
   "id": "b563190c-fc20-47c1-bc6a-56bc09e6f04a",
   "metadata": {},
   "outputs": [],
   "source": []
  }
 ],
 "metadata": {
  "kernelspec": {
   "display_name": "Python 3 (ipykernel)",
   "language": "python",
   "name": "python3"
  },
  "language_info": {
   "codemirror_mode": {
    "name": "ipython",
    "version": 3
   },
   "file_extension": ".py",
   "mimetype": "text/x-python",
   "name": "python",
   "nbconvert_exporter": "python",
   "pygments_lexer": "ipython3",
   "version": "3.11.7"
  }
 },
 "nbformat": 4,
 "nbformat_minor": 5
}
